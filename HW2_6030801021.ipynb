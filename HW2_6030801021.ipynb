{
  "nbformat": 4,
  "nbformat_minor": 0,
  "metadata": {
    "colab": {
      "name": "HW2_6030801021.ipynb",
      "provenance": [],
      "collapsed_sections": [
        "tEP4s-Knvqo_"
      ],
      "authorship_tag": "ABX9TyPh0YUGC+JXgKx64EskT90n",
      "include_colab_link": true
    },
    "kernelspec": {
      "name": "python3",
      "display_name": "Python 3"
    }
  },
  "cells": [
    {
      "cell_type": "markdown",
      "metadata": {
        "id": "view-in-github",
        "colab_type": "text"
      },
      "source": [
        "<a href=\"https://colab.research.google.com/github/Kodchakarn/2108564-Geos-data-sci-anal/blob/master/HW2_6030801021.ipynb\" target=\"_parent\"><img src=\"https://colab.research.google.com/assets/colab-badge.svg\" alt=\"Open In Colab\"/></a>"
      ]
    },
    {
      "cell_type": "markdown",
      "metadata": {
        "id": "h7l3aKaNpiHr",
        "colab_type": "text"
      },
      "source": [
        "# Homework Pandas 6030801021"
      ]
    },
    {
      "cell_type": "markdown",
      "metadata": {
        "id": "GAnpRQbqpKkW",
        "colab_type": "text"
      },
      "source": [
        "## __Import library__"
      ]
    },
    {
      "cell_type": "code",
      "metadata": {
        "id": "u8OwES8zpReB",
        "colab_type": "code",
        "colab": {}
      },
      "source": [
        "import pandas as pd\n",
        "import numpy as np\n",
        "import matplotlib.pyplot as plt"
      ],
      "execution_count": 98,
      "outputs": []
    },
    {
      "cell_type": "markdown",
      "metadata": {
        "id": "Ltyo6WyHfOdX",
        "colab_type": "text"
      },
      "source": [
        "## __import data from google drive__"
      ]
    },
    {
      "cell_type": "code",
      "metadata": {
        "id": "Ei2KgahAfh10",
        "colab_type": "code",
        "colab": {}
      },
      "source": [
        "!pip install -U -q PyDrive\n",
        "from pydrive.auth import GoogleAuth\n",
        "from pydrive.drive import GoogleDrive\n",
        "from google.colab import auth\n",
        "from oauth2client.client import GoogleCredentials\n",
        "\n",
        "auth.authenticate_user()\n",
        "gauth = GoogleAuth()\n",
        "gauth.credentials = GoogleCredentials.get_application_default()\n",
        "drive = GoogleDrive(gauth)\n",
        "\n",
        "file_id = '1a9Kjj0yOH5EkZfzwCXFfAvimIQgIqx_k' #copy from link\n",
        "downloaded = drive.CreateFile({'id': file_id})"
      ],
      "execution_count": 99,
      "outputs": []
    },
    {
      "cell_type": "markdown",
      "metadata": {
        "id": "F8iLey94gH4r",
        "colab_type": "text"
      },
      "source": [
        "### ตั้งชื่อไฟล์ที่ import มา"
      ]
    },
    {
      "cell_type": "code",
      "metadata": {
        "id": "SOtlwvFEfTAi",
        "colab_type": "code",
        "colab": {}
      },
      "source": [
        "downloaded.GetContentFile('Fire_Data.xlsx')\n",
        "dat = pd.read_excel('Fire_Data.xlsx')"
      ],
      "execution_count": 100,
      "outputs": []
    },
    {
      "cell_type": "markdown",
      "metadata": {
        "id": "vfhLDoJehp8L",
        "colab_type": "text"
      },
      "source": [
        "### ดูชนิดของข้อมูล"
      ]
    },
    {
      "cell_type": "code",
      "metadata": {
        "id": "APA4CV5ch3Q0",
        "colab_type": "code",
        "colab": {
          "base_uri": "https://localhost:8080/",
          "height": 286
        },
        "outputId": "83f81997-aab1-470e-f7e1-8eeafc9851d8"
      },
      "source": [
        "dat.dtypes"
      ],
      "execution_count": 101,
      "outputs": [
        {
          "output_type": "execute_result",
          "data": {
            "text/plain": [
              "OBJECTID               int64\n",
              "LATITUDE             float64\n",
              "LONGITUDE            float64\n",
              "BRIGHT_TI4           float64\n",
              "SCAN                 float64\n",
              "TRACK                float64\n",
              "ACQ_DATE      datetime64[ns]\n",
              "ACQ_TIME               int64\n",
              "SATELLITE             object\n",
              "INSTRUMENT            object\n",
              "CONFIDENCE            object\n",
              "VERSION                int64\n",
              "BRIGHT_TI5           float64\n",
              "FRP                  float64\n",
              "TYPE                   int64\n",
              "dtype: object"
            ]
          },
          "metadata": {
            "tags": []
          },
          "execution_count": 101
        }
      ]
    },
    {
      "cell_type": "markdown",
      "metadata": {
        "id": "FwiE2Wb8izIf",
        "colab_type": "text"
      },
      "source": [
        "## __Manage Data__"
      ]
    },
    {
      "cell_type": "markdown",
      "metadata": {
        "id": "8QmT3w9fkcAG",
        "colab_type": "text"
      },
      "source": [
        "### ดูข้อมูลใน column ACQ_DATE และ ACQ_TIME"
      ]
    },
    {
      "cell_type": "code",
      "metadata": {
        "id": "qBdofbMYkPbm",
        "colab_type": "code",
        "colab": {
          "base_uri": "https://localhost:8080/",
          "height": 1000
        },
        "outputId": "634fbe2f-ad44-4a82-facb-6b11746de1b1"
      },
      "source": [
        "dat['ACQ_DATE'].unique()"
      ],
      "execution_count": 102,
      "outputs": [
        {
          "output_type": "execute_result",
          "data": {
            "text/plain": [
              "array(['2019-12-01T00:00:00.000000000', '2019-12-02T00:00:00.000000000',\n",
              "       '2019-12-03T00:00:00.000000000', '2019-12-04T00:00:00.000000000',\n",
              "       '2019-12-05T00:00:00.000000000', '2019-12-06T00:00:00.000000000',\n",
              "       '2019-12-07T00:00:00.000000000', '2019-12-08T00:00:00.000000000',\n",
              "       '2019-12-09T00:00:00.000000000', '2019-12-10T00:00:00.000000000',\n",
              "       '2019-12-11T00:00:00.000000000', '2019-12-12T00:00:00.000000000',\n",
              "       '2019-12-13T00:00:00.000000000', '2019-12-14T00:00:00.000000000',\n",
              "       '2019-12-15T00:00:00.000000000', '2019-12-16T00:00:00.000000000',\n",
              "       '2019-12-17T00:00:00.000000000', '2019-12-18T00:00:00.000000000',\n",
              "       '2019-12-19T00:00:00.000000000', '2019-12-20T00:00:00.000000000',\n",
              "       '2019-12-21T00:00:00.000000000', '2019-12-22T00:00:00.000000000',\n",
              "       '2019-12-23T00:00:00.000000000', '2019-12-24T00:00:00.000000000',\n",
              "       '2019-12-25T00:00:00.000000000', '2019-12-26T00:00:00.000000000',\n",
              "       '2019-12-27T00:00:00.000000000', '2019-12-28T00:00:00.000000000',\n",
              "       '2019-12-29T00:00:00.000000000', '2019-12-30T00:00:00.000000000',\n",
              "       '2019-12-31T00:00:00.000000000', '2020-01-01T00:00:00.000000000',\n",
              "       '2020-01-02T00:00:00.000000000', '2020-01-03T00:00:00.000000000',\n",
              "       '2020-01-04T00:00:00.000000000', '2020-01-05T00:00:00.000000000',\n",
              "       '2020-01-06T00:00:00.000000000', '2020-01-07T00:00:00.000000000',\n",
              "       '2020-01-08T00:00:00.000000000', '2020-01-09T00:00:00.000000000',\n",
              "       '2020-01-10T00:00:00.000000000', '2020-01-11T00:00:00.000000000',\n",
              "       '2020-01-12T00:00:00.000000000', '2020-01-13T00:00:00.000000000',\n",
              "       '2020-01-14T00:00:00.000000000', '2020-01-15T00:00:00.000000000',\n",
              "       '2020-01-16T00:00:00.000000000', '2020-01-17T00:00:00.000000000',\n",
              "       '2020-01-18T00:00:00.000000000', '2020-01-19T00:00:00.000000000',\n",
              "       '2020-01-20T00:00:00.000000000', '2020-01-21T00:00:00.000000000',\n",
              "       '2020-01-22T00:00:00.000000000', '2020-01-23T00:00:00.000000000',\n",
              "       '2020-01-24T00:00:00.000000000', '2020-01-25T00:00:00.000000000',\n",
              "       '2020-01-26T00:00:00.000000000', '2020-01-27T00:00:00.000000000',\n",
              "       '2020-01-28T00:00:00.000000000', '2020-01-29T00:00:00.000000000',\n",
              "       '2020-01-30T00:00:00.000000000', '2020-01-31T00:00:00.000000000',\n",
              "       '2020-02-01T00:00:00.000000000', '2020-02-02T00:00:00.000000000',\n",
              "       '2020-02-03T00:00:00.000000000', '2020-02-04T00:00:00.000000000',\n",
              "       '2020-02-05T00:00:00.000000000', '2020-02-06T00:00:00.000000000',\n",
              "       '2020-02-07T00:00:00.000000000', '2020-02-08T00:00:00.000000000',\n",
              "       '2020-02-09T00:00:00.000000000', '2020-02-10T00:00:00.000000000',\n",
              "       '2020-02-11T00:00:00.000000000', '2020-02-12T00:00:00.000000000',\n",
              "       '2020-02-13T00:00:00.000000000', '2020-02-14T00:00:00.000000000',\n",
              "       '2020-02-15T00:00:00.000000000', '2020-02-16T00:00:00.000000000',\n",
              "       '2020-02-17T00:00:00.000000000', '2020-02-18T00:00:00.000000000',\n",
              "       '2020-02-19T00:00:00.000000000', '2020-02-20T00:00:00.000000000',\n",
              "       '2020-02-21T00:00:00.000000000', '2020-02-22T00:00:00.000000000',\n",
              "       '2020-02-23T00:00:00.000000000', '2020-02-24T00:00:00.000000000',\n",
              "       '2020-02-25T00:00:00.000000000', '2020-02-26T00:00:00.000000000',\n",
              "       '2020-02-27T00:00:00.000000000', '2020-02-28T00:00:00.000000000',\n",
              "       '2020-02-29T00:00:00.000000000', '2020-03-01T00:00:00.000000000',\n",
              "       '2020-03-02T00:00:00.000000000', '2020-03-03T00:00:00.000000000',\n",
              "       '2020-03-04T00:00:00.000000000', '2020-03-05T00:00:00.000000000',\n",
              "       '2020-03-06T00:00:00.000000000', '2020-03-07T00:00:00.000000000',\n",
              "       '2020-03-08T00:00:00.000000000', '2020-03-09T00:00:00.000000000',\n",
              "       '2020-03-10T00:00:00.000000000', '2020-03-11T00:00:00.000000000',\n",
              "       '2020-03-12T00:00:00.000000000', '2020-03-13T00:00:00.000000000',\n",
              "       '2020-03-14T00:00:00.000000000', '2020-03-15T00:00:00.000000000',\n",
              "       '2020-03-16T00:00:00.000000000', '2020-03-17T00:00:00.000000000',\n",
              "       '2020-03-18T00:00:00.000000000', '2020-03-19T00:00:00.000000000',\n",
              "       '2020-03-20T00:00:00.000000000', '2020-03-21T00:00:00.000000000',\n",
              "       '2020-03-22T00:00:00.000000000', '2020-03-23T00:00:00.000000000',\n",
              "       '2020-03-24T00:00:00.000000000', '2020-03-25T00:00:00.000000000',\n",
              "       '2020-03-26T00:00:00.000000000', '2020-03-27T00:00:00.000000000',\n",
              "       '2020-03-28T00:00:00.000000000', '2020-03-29T00:00:00.000000000',\n",
              "       '2020-03-30T00:00:00.000000000', '2020-03-31T00:00:00.000000000',\n",
              "       '2020-04-01T00:00:00.000000000', '2020-04-02T00:00:00.000000000',\n",
              "       '2020-04-03T00:00:00.000000000', '2020-04-04T00:00:00.000000000'],\n",
              "      dtype='datetime64[ns]')"
            ]
          },
          "metadata": {
            "tags": []
          },
          "execution_count": 102
        }
      ]
    },
    {
      "cell_type": "code",
      "metadata": {
        "id": "bKlp5wimkjUN",
        "colab_type": "code",
        "colab": {
          "base_uri": "https://localhost:8080/",
          "height": 185
        },
        "outputId": "5f10792a-0a66-445c-8aa7-7c56d8c3207c"
      },
      "source": [
        "dat['ACQ_TIME'].unique()"
      ],
      "execution_count": 103,
      "outputs": [
        {
          "output_type": "execute_result",
          "data": {
            "text/plain": [
              "array([ 635,  636, 1906, 1907,  617,  618, 1847, 1848,  558,  559, 1828,\n",
              "       1829,  540,  719,  720, 1810, 1950,  700,  701, 1931,  641,  642,\n",
              "        643, 1913,  623,  624, 1854,  604,  605, 1835, 1836,  545,  546,\n",
              "        726,  727, 1816, 1956,  707,  708, 1938,  648,  649, 1919,  629,\n",
              "        630, 1900, 1901,  610,  611, 1841, 1842,  552, 1822, 1823,  533,\n",
              "        534,  713,  714, 1944,  654,  655, 1925, 1926,  616, 1951, 1932,\n",
              "       1912, 1853, 1834,  725, 1815, 1957,  551, 1804, 1943,  557,  738,\n",
              "        539, 1809,  622,  706, 1757, 1937,  647, 1918, 1859,  732, 1803,\n",
              "       1924,  603,  628, 1840,  731, 1821,  712,  653, 1905, 1949, 2002,\n",
              "        739, 1817,  733, 2003, 1945, 1855, 1920])"
            ]
          },
          "metadata": {
            "tags": []
          },
          "execution_count": 103
        }
      ]
    },
    {
      "cell_type": "markdown",
      "metadata": {
        "id": "PuxvK3KCjAqt",
        "colab_type": "text"
      },
      "source": [
        "## __Transform Data__"
      ]
    },
    {
      "cell_type": "markdown",
      "metadata": {
        "id": "cp4J3WTBnjuQ",
        "colab_type": "text"
      },
      "source": [
        "### จัดการ ACQ_TIME ในรูป hh:min:sec"
      ]
    },
    {
      "cell_type": "code",
      "metadata": {
        "id": "L0uIi-QCo6uj",
        "colab_type": "code",
        "colab": {}
      },
      "source": [
        "dat['ACQ_TIME'] = (dat['ACQ_TIME']/100).astype(str)\n",
        "dat['ACQ_TIME']=dat['ACQ_TIME'].str.replace('.',':',regex=True)+':00'"
      ],
      "execution_count": 104,
      "outputs": []
    },
    {
      "cell_type": "markdown",
      "metadata": {
        "id": "o50ZL-t9lH6U",
        "colab_type": "text"
      },
      "source": [
        "### Combine date and time & ทำเป็น type datetime"
      ]
    },
    {
      "cell_type": "code",
      "metadata": {
        "id": "Cryc0znslPej",
        "colab_type": "code",
        "colab": {}
      },
      "source": [
        "dat['ACQ_TIME'] = pd.to_timedelta(dat['ACQ_TIME'])\n",
        "dat['DateTime']=dat['ACQ_DATE']+dat['ACQ_TIME']"
      ],
      "execution_count": 105,
      "outputs": []
    },
    {
      "cell_type": "markdown",
      "metadata": {
        "id": "tEP4s-Knvqo_",
        "colab_type": "text"
      },
      "source": [
        "### check data type"
      ]
    },
    {
      "cell_type": "code",
      "metadata": {
        "id": "K0Y9PkSwvmXn",
        "colab_type": "code",
        "colab": {
          "base_uri": "https://localhost:8080/",
          "height": 0
        },
        "outputId": "3ddd0e68-b5c3-4491-e89c-859b870bc57b"
      },
      "source": [
        "dat.dtypes"
      ],
      "execution_count": 106,
      "outputs": [
        {
          "output_type": "execute_result",
          "data": {
            "text/plain": [
              "OBJECTID                int64\n",
              "LATITUDE              float64\n",
              "LONGITUDE             float64\n",
              "BRIGHT_TI4            float64\n",
              "SCAN                  float64\n",
              "TRACK                 float64\n",
              "ACQ_DATE       datetime64[ns]\n",
              "ACQ_TIME      timedelta64[ns]\n",
              "SATELLITE              object\n",
              "INSTRUMENT             object\n",
              "CONFIDENCE             object\n",
              "VERSION                 int64\n",
              "BRIGHT_TI5            float64\n",
              "FRP                   float64\n",
              "TYPE                    int64\n",
              "DateTime       datetime64[ns]\n",
              "dtype: object"
            ]
          },
          "metadata": {
            "tags": []
          },
          "execution_count": 106
        }
      ]
    },
    {
      "cell_type": "markdown",
      "metadata": {
        "id": "Gt6H9mJ1vyRi",
        "colab_type": "text"
      },
      "source": [
        "### แสดงข้อมูล 5 วัน"
      ]
    },
    {
      "cell_type": "code",
      "metadata": {
        "id": "GxJJGfX7v31Q",
        "colab_type": "code",
        "colab": {
          "base_uri": "https://localhost:8080/",
          "height": 195
        },
        "outputId": "3f091fcd-9231-4c02-ef1c-49f53e5062dc"
      },
      "source": [
        "dat.head(5)"
      ],
      "execution_count": 107,
      "outputs": [
        {
          "output_type": "execute_result",
          "data": {
            "text/html": [
              "<div>\n",
              "<style scoped>\n",
              "    .dataframe tbody tr th:only-of-type {\n",
              "        vertical-align: middle;\n",
              "    }\n",
              "\n",
              "    .dataframe tbody tr th {\n",
              "        vertical-align: top;\n",
              "    }\n",
              "\n",
              "    .dataframe thead th {\n",
              "        text-align: right;\n",
              "    }\n",
              "</style>\n",
              "<table border=\"1\" class=\"dataframe\">\n",
              "  <thead>\n",
              "    <tr style=\"text-align: right;\">\n",
              "      <th></th>\n",
              "      <th>OBJECTID</th>\n",
              "      <th>LATITUDE</th>\n",
              "      <th>LONGITUDE</th>\n",
              "      <th>BRIGHT_TI4</th>\n",
              "      <th>SCAN</th>\n",
              "      <th>TRACK</th>\n",
              "      <th>ACQ_DATE</th>\n",
              "      <th>ACQ_TIME</th>\n",
              "      <th>SATELLITE</th>\n",
              "      <th>INSTRUMENT</th>\n",
              "      <th>CONFIDENCE</th>\n",
              "      <th>VERSION</th>\n",
              "      <th>BRIGHT_TI5</th>\n",
              "      <th>FRP</th>\n",
              "      <th>TYPE</th>\n",
              "      <th>DateTime</th>\n",
              "    </tr>\n",
              "  </thead>\n",
              "  <tbody>\n",
              "    <tr>\n",
              "      <th>0</th>\n",
              "      <td>1</td>\n",
              "      <td>16.33696</td>\n",
              "      <td>98.70137</td>\n",
              "      <td>334.5</td>\n",
              "      <td>0.39</td>\n",
              "      <td>0.36</td>\n",
              "      <td>2019-12-01</td>\n",
              "      <td>06:35:00</td>\n",
              "      <td>N</td>\n",
              "      <td>VIIRS</td>\n",
              "      <td>n</td>\n",
              "      <td>1</td>\n",
              "      <td>303.4</td>\n",
              "      <td>5.8</td>\n",
              "      <td>0</td>\n",
              "      <td>2019-12-01 06:35:00</td>\n",
              "    </tr>\n",
              "    <tr>\n",
              "      <th>1</th>\n",
              "      <td>2</td>\n",
              "      <td>16.48906</td>\n",
              "      <td>98.73961</td>\n",
              "      <td>343.2</td>\n",
              "      <td>0.39</td>\n",
              "      <td>0.36</td>\n",
              "      <td>2019-12-01</td>\n",
              "      <td>06:35:00</td>\n",
              "      <td>N</td>\n",
              "      <td>VIIRS</td>\n",
              "      <td>n</td>\n",
              "      <td>1</td>\n",
              "      <td>306.3</td>\n",
              "      <td>6.4</td>\n",
              "      <td>0</td>\n",
              "      <td>2019-12-01 06:35:00</td>\n",
              "    </tr>\n",
              "    <tr>\n",
              "      <th>2</th>\n",
              "      <td>3</td>\n",
              "      <td>16.93571</td>\n",
              "      <td>99.06874</td>\n",
              "      <td>339.4</td>\n",
              "      <td>0.39</td>\n",
              "      <td>0.36</td>\n",
              "      <td>2019-12-01</td>\n",
              "      <td>06:35:00</td>\n",
              "      <td>N</td>\n",
              "      <td>VIIRS</td>\n",
              "      <td>n</td>\n",
              "      <td>1</td>\n",
              "      <td>305.0</td>\n",
              "      <td>3.8</td>\n",
              "      <td>0</td>\n",
              "      <td>2019-12-01 06:35:00</td>\n",
              "    </tr>\n",
              "    <tr>\n",
              "      <th>3</th>\n",
              "      <td>4</td>\n",
              "      <td>16.54092</td>\n",
              "      <td>98.59869</td>\n",
              "      <td>343.2</td>\n",
              "      <td>0.39</td>\n",
              "      <td>0.36</td>\n",
              "      <td>2019-12-01</td>\n",
              "      <td>06:35:00</td>\n",
              "      <td>N</td>\n",
              "      <td>VIIRS</td>\n",
              "      <td>n</td>\n",
              "      <td>1</td>\n",
              "      <td>306.0</td>\n",
              "      <td>4.6</td>\n",
              "      <td>0</td>\n",
              "      <td>2019-12-01 06:35:00</td>\n",
              "    </tr>\n",
              "    <tr>\n",
              "      <th>4</th>\n",
              "      <td>5</td>\n",
              "      <td>16.87473</td>\n",
              "      <td>98.63222</td>\n",
              "      <td>331.1</td>\n",
              "      <td>0.39</td>\n",
              "      <td>0.36</td>\n",
              "      <td>2019-12-01</td>\n",
              "      <td>06:35:00</td>\n",
              "      <td>N</td>\n",
              "      <td>VIIRS</td>\n",
              "      <td>n</td>\n",
              "      <td>1</td>\n",
              "      <td>303.9</td>\n",
              "      <td>3.1</td>\n",
              "      <td>0</td>\n",
              "      <td>2019-12-01 06:35:00</td>\n",
              "    </tr>\n",
              "  </tbody>\n",
              "</table>\n",
              "</div>"
            ],
            "text/plain": [
              "   OBJECTID  LATITUDE  LONGITUDE  ...  FRP  TYPE            DateTime\n",
              "0         1  16.33696   98.70137  ...  5.8     0 2019-12-01 06:35:00\n",
              "1         2  16.48906   98.73961  ...  6.4     0 2019-12-01 06:35:00\n",
              "2         3  16.93571   99.06874  ...  3.8     0 2019-12-01 06:35:00\n",
              "3         4  16.54092   98.59869  ...  4.6     0 2019-12-01 06:35:00\n",
              "4         5  16.87473   98.63222  ...  3.1     0 2019-12-01 06:35:00\n",
              "\n",
              "[5 rows x 16 columns]"
            ]
          },
          "metadata": {
            "tags": []
          },
          "execution_count": 107
        }
      ]
    },
    {
      "cell_type": "markdown",
      "metadata": {
        "id": "HtLmaelyjFAu",
        "colab_type": "text"
      },
      "source": [
        "## __Plot__"
      ]
    },
    {
      "cell_type": "markdown",
      "metadata": {
        "id": "F43WLtLIF8Ml",
        "colab_type": "text"
      },
      "source": [
        "### หาผลต่างของเวลาเพื่อใช้ในการ Plot โดยแปลงให้อยู่ในหน่วยนาที"
      ]
    },
    {
      "cell_type": "code",
      "metadata": {
        "id": "luiXHzN3GGJ-",
        "colab_type": "code",
        "colab": {
          "base_uri": "https://localhost:8080/",
          "height": 570
        },
        "outputId": "329499f1-869c-46de-89d7-e98aba43c1a5"
      },
      "source": [
        "dat['delta']=dat['DateTime']-dat['DateTime'].iloc[0]\n",
        "dat['delmin']=(dat['delta'].dt.total_seconds())/60\n",
        "dat"
      ],
      "execution_count": 108,
      "outputs": [
        {
          "output_type": "execute_result",
          "data": {
            "text/html": [
              "<div>\n",
              "<style scoped>\n",
              "    .dataframe tbody tr th:only-of-type {\n",
              "        vertical-align: middle;\n",
              "    }\n",
              "\n",
              "    .dataframe tbody tr th {\n",
              "        vertical-align: top;\n",
              "    }\n",
              "\n",
              "    .dataframe thead th {\n",
              "        text-align: right;\n",
              "    }\n",
              "</style>\n",
              "<table border=\"1\" class=\"dataframe\">\n",
              "  <thead>\n",
              "    <tr style=\"text-align: right;\">\n",
              "      <th></th>\n",
              "      <th>OBJECTID</th>\n",
              "      <th>LATITUDE</th>\n",
              "      <th>LONGITUDE</th>\n",
              "      <th>BRIGHT_TI4</th>\n",
              "      <th>SCAN</th>\n",
              "      <th>TRACK</th>\n",
              "      <th>ACQ_DATE</th>\n",
              "      <th>ACQ_TIME</th>\n",
              "      <th>SATELLITE</th>\n",
              "      <th>INSTRUMENT</th>\n",
              "      <th>CONFIDENCE</th>\n",
              "      <th>VERSION</th>\n",
              "      <th>BRIGHT_TI5</th>\n",
              "      <th>FRP</th>\n",
              "      <th>TYPE</th>\n",
              "      <th>DateTime</th>\n",
              "      <th>delta</th>\n",
              "      <th>delmin</th>\n",
              "    </tr>\n",
              "  </thead>\n",
              "  <tbody>\n",
              "    <tr>\n",
              "      <th>0</th>\n",
              "      <td>1</td>\n",
              "      <td>16.33696</td>\n",
              "      <td>98.70137</td>\n",
              "      <td>334.5</td>\n",
              "      <td>0.39</td>\n",
              "      <td>0.36</td>\n",
              "      <td>2019-12-01</td>\n",
              "      <td>06:35:00</td>\n",
              "      <td>N</td>\n",
              "      <td>VIIRS</td>\n",
              "      <td>n</td>\n",
              "      <td>1</td>\n",
              "      <td>303.4</td>\n",
              "      <td>5.8</td>\n",
              "      <td>0</td>\n",
              "      <td>2019-12-01 06:35:00</td>\n",
              "      <td>0 days 00:00:00</td>\n",
              "      <td>0.0</td>\n",
              "    </tr>\n",
              "    <tr>\n",
              "      <th>1</th>\n",
              "      <td>2</td>\n",
              "      <td>16.48906</td>\n",
              "      <td>98.73961</td>\n",
              "      <td>343.2</td>\n",
              "      <td>0.39</td>\n",
              "      <td>0.36</td>\n",
              "      <td>2019-12-01</td>\n",
              "      <td>06:35:00</td>\n",
              "      <td>N</td>\n",
              "      <td>VIIRS</td>\n",
              "      <td>n</td>\n",
              "      <td>1</td>\n",
              "      <td>306.3</td>\n",
              "      <td>6.4</td>\n",
              "      <td>0</td>\n",
              "      <td>2019-12-01 06:35:00</td>\n",
              "      <td>0 days 00:00:00</td>\n",
              "      <td>0.0</td>\n",
              "    </tr>\n",
              "    <tr>\n",
              "      <th>2</th>\n",
              "      <td>3</td>\n",
              "      <td>16.93571</td>\n",
              "      <td>99.06874</td>\n",
              "      <td>339.4</td>\n",
              "      <td>0.39</td>\n",
              "      <td>0.36</td>\n",
              "      <td>2019-12-01</td>\n",
              "      <td>06:35:00</td>\n",
              "      <td>N</td>\n",
              "      <td>VIIRS</td>\n",
              "      <td>n</td>\n",
              "      <td>1</td>\n",
              "      <td>305.0</td>\n",
              "      <td>3.8</td>\n",
              "      <td>0</td>\n",
              "      <td>2019-12-01 06:35:00</td>\n",
              "      <td>0 days 00:00:00</td>\n",
              "      <td>0.0</td>\n",
              "    </tr>\n",
              "    <tr>\n",
              "      <th>3</th>\n",
              "      <td>4</td>\n",
              "      <td>16.54092</td>\n",
              "      <td>98.59869</td>\n",
              "      <td>343.2</td>\n",
              "      <td>0.39</td>\n",
              "      <td>0.36</td>\n",
              "      <td>2019-12-01</td>\n",
              "      <td>06:35:00</td>\n",
              "      <td>N</td>\n",
              "      <td>VIIRS</td>\n",
              "      <td>n</td>\n",
              "      <td>1</td>\n",
              "      <td>306.0</td>\n",
              "      <td>4.6</td>\n",
              "      <td>0</td>\n",
              "      <td>2019-12-01 06:35:00</td>\n",
              "      <td>0 days 00:00:00</td>\n",
              "      <td>0.0</td>\n",
              "    </tr>\n",
              "    <tr>\n",
              "      <th>4</th>\n",
              "      <td>5</td>\n",
              "      <td>16.87473</td>\n",
              "      <td>98.63222</td>\n",
              "      <td>331.1</td>\n",
              "      <td>0.39</td>\n",
              "      <td>0.36</td>\n",
              "      <td>2019-12-01</td>\n",
              "      <td>06:35:00</td>\n",
              "      <td>N</td>\n",
              "      <td>VIIRS</td>\n",
              "      <td>n</td>\n",
              "      <td>1</td>\n",
              "      <td>303.9</td>\n",
              "      <td>3.1</td>\n",
              "      <td>0</td>\n",
              "      <td>2019-12-01 06:35:00</td>\n",
              "      <td>0 days 00:00:00</td>\n",
              "      <td>0.0</td>\n",
              "    </tr>\n",
              "    <tr>\n",
              "      <th>...</th>\n",
              "      <td>...</td>\n",
              "      <td>...</td>\n",
              "      <td>...</td>\n",
              "      <td>...</td>\n",
              "      <td>...</td>\n",
              "      <td>...</td>\n",
              "      <td>...</td>\n",
              "      <td>...</td>\n",
              "      <td>...</td>\n",
              "      <td>...</td>\n",
              "      <td>...</td>\n",
              "      <td>...</td>\n",
              "      <td>...</td>\n",
              "      <td>...</td>\n",
              "      <td>...</td>\n",
              "      <td>...</td>\n",
              "      <td>...</td>\n",
              "      <td>...</td>\n",
              "    </tr>\n",
              "    <tr>\n",
              "      <th>79229</th>\n",
              "      <td>79230</td>\n",
              "      <td>17.81812</td>\n",
              "      <td>97.74127</td>\n",
              "      <td>347.4</td>\n",
              "      <td>0.78</td>\n",
              "      <td>0.78</td>\n",
              "      <td>2020-04-04</td>\n",
              "      <td>20:03:00</td>\n",
              "      <td>N</td>\n",
              "      <td>VIIRS</td>\n",
              "      <td>n</td>\n",
              "      <td>1</td>\n",
              "      <td>294.4</td>\n",
              "      <td>7.2</td>\n",
              "      <td>0</td>\n",
              "      <td>2020-04-04 20:03:00</td>\n",
              "      <td>125 days 13:28:00</td>\n",
              "      <td>180808.0</td>\n",
              "    </tr>\n",
              "    <tr>\n",
              "      <th>79230</th>\n",
              "      <td>79231</td>\n",
              "      <td>17.77545</td>\n",
              "      <td>97.85637</td>\n",
              "      <td>306.5</td>\n",
              "      <td>0.79</td>\n",
              "      <td>0.78</td>\n",
              "      <td>2020-04-04</td>\n",
              "      <td>20:03:00</td>\n",
              "      <td>N</td>\n",
              "      <td>VIIRS</td>\n",
              "      <td>n</td>\n",
              "      <td>1</td>\n",
              "      <td>293.7</td>\n",
              "      <td>2.9</td>\n",
              "      <td>0</td>\n",
              "      <td>2020-04-04 20:03:00</td>\n",
              "      <td>125 days 13:28:00</td>\n",
              "      <td>180808.0</td>\n",
              "    </tr>\n",
              "    <tr>\n",
              "      <th>79231</th>\n",
              "      <td>79232</td>\n",
              "      <td>17.76847</td>\n",
              "      <td>97.79116</td>\n",
              "      <td>305.7</td>\n",
              "      <td>0.79</td>\n",
              "      <td>0.78</td>\n",
              "      <td>2020-04-04</td>\n",
              "      <td>20:03:00</td>\n",
              "      <td>N</td>\n",
              "      <td>VIIRS</td>\n",
              "      <td>n</td>\n",
              "      <td>1</td>\n",
              "      <td>293.7</td>\n",
              "      <td>2.2</td>\n",
              "      <td>0</td>\n",
              "      <td>2020-04-04 20:03:00</td>\n",
              "      <td>125 days 13:28:00</td>\n",
              "      <td>180808.0</td>\n",
              "    </tr>\n",
              "    <tr>\n",
              "      <th>79232</th>\n",
              "      <td>79233</td>\n",
              "      <td>17.77518</td>\n",
              "      <td>97.82606</td>\n",
              "      <td>306.1</td>\n",
              "      <td>0.79</td>\n",
              "      <td>0.78</td>\n",
              "      <td>2020-04-04</td>\n",
              "      <td>20:03:00</td>\n",
              "      <td>N</td>\n",
              "      <td>VIIRS</td>\n",
              "      <td>n</td>\n",
              "      <td>1</td>\n",
              "      <td>292.7</td>\n",
              "      <td>2.9</td>\n",
              "      <td>0</td>\n",
              "      <td>2020-04-04 20:03:00</td>\n",
              "      <td>125 days 13:28:00</td>\n",
              "      <td>180808.0</td>\n",
              "    </tr>\n",
              "    <tr>\n",
              "      <th>79233</th>\n",
              "      <td>79234</td>\n",
              "      <td>18.46766</td>\n",
              "      <td>97.94600</td>\n",
              "      <td>301.3</td>\n",
              "      <td>0.78</td>\n",
              "      <td>0.78</td>\n",
              "      <td>2020-04-04</td>\n",
              "      <td>20:03:00</td>\n",
              "      <td>N</td>\n",
              "      <td>VIIRS</td>\n",
              "      <td>n</td>\n",
              "      <td>1</td>\n",
              "      <td>290.9</td>\n",
              "      <td>1.0</td>\n",
              "      <td>0</td>\n",
              "      <td>2020-04-04 20:03:00</td>\n",
              "      <td>125 days 13:28:00</td>\n",
              "      <td>180808.0</td>\n",
              "    </tr>\n",
              "  </tbody>\n",
              "</table>\n",
              "<p>79234 rows × 18 columns</p>\n",
              "</div>"
            ],
            "text/plain": [
              "       OBJECTID  LATITUDE  ...             delta    delmin\n",
              "0             1  16.33696  ...   0 days 00:00:00       0.0\n",
              "1             2  16.48906  ...   0 days 00:00:00       0.0\n",
              "2             3  16.93571  ...   0 days 00:00:00       0.0\n",
              "3             4  16.54092  ...   0 days 00:00:00       0.0\n",
              "4             5  16.87473  ...   0 days 00:00:00       0.0\n",
              "...         ...       ...  ...               ...       ...\n",
              "79229     79230  17.81812  ... 125 days 13:28:00  180808.0\n",
              "79230     79231  17.77545  ... 125 days 13:28:00  180808.0\n",
              "79231     79232  17.76847  ... 125 days 13:28:00  180808.0\n",
              "79232     79233  17.77518  ... 125 days 13:28:00  180808.0\n",
              "79233     79234  18.46766  ... 125 days 13:28:00  180808.0\n",
              "\n",
              "[79234 rows x 18 columns]"
            ]
          },
          "metadata": {
            "tags": []
          },
          "execution_count": 108
        }
      ]
    },
    {
      "cell_type": "markdown",
      "metadata": {
        "id": "mImJWQHCIlsW",
        "colab_type": "text"
      },
      "source": [
        "### ทำในรูปแบบ UTM"
      ]
    },
    {
      "cell_type": "code",
      "metadata": {
        "id": "ygkFoNEWIo6w",
        "colab_type": "code",
        "colab": {
          "base_uri": "https://localhost:8080/",
          "height": 34
        },
        "outputId": "b367265b-b405-43cb-f857-92fb9c651310"
      },
      "source": [
        "!pip install pyproj\n",
        "from pyproj import Transformer\n",
        "tran = Transformer.from_crs(\"epsg:4326\", \"+proj=utm +zone=47N +ellps=WGS84\", always_xy=True)\n",
        "xutm, yutm = tran.transform(dat[\"LONGITUDE\"].values, dat[\"LATITUDE\"].values)\n",
        "dat[\"xutm\"] = xutm\n",
        "dat[\"yutm\"] = yutm"
      ],
      "execution_count": 109,
      "outputs": [
        {
          "output_type": "stream",
          "text": [
            "Requirement already satisfied: pyproj in /usr/local/lib/python3.6/dist-packages (2.6.1.post1)\n"
          ],
          "name": "stdout"
        }
      ]
    },
    {
      "cell_type": "markdown",
      "metadata": {
        "id": "yE68l47XJOr9",
        "colab_type": "text"
      },
      "source": [
        "### Plot graph ระหว่าง X Y และ Time โดยใช้ Time เป็นหน่วยวัน"
      ]
    },
    {
      "cell_type": "code",
      "metadata": {
        "id": "7jjdH34UEEiB",
        "colab_type": "code",
        "colab": {
          "base_uri": "https://localhost:8080/",
          "height": 466
        },
        "outputId": "a80c8295-3bb9-4e2e-cb70-c3e65da3f4b1"
      },
      "source": [
        "g = plt.figure()\n",
        "a = g.add_subplot(111, projection='3d')\n",
        "a.scatter(dat.xutm, dat.yutm,(dat.delmin)/1440)\n",
        "a.set_xlabel('X (Lontitude)')\n",
        "a.set_ylabel('Y (Latitude)')\n",
        "a.set_zlabel('TIME [days]')\n",
        "a.set_title('X-Y-Time')\n",
        "plt.show()"
      ],
      "execution_count": 112,
      "outputs": [
        {
          "output_type": "display_data",
          "data": {
            "image/png": "[encoded data removed]",
            "text/plain": [
              "<Figure size 720x576 with 1 Axes>"
            ]
          },
          "metadata": {
            "tags": [],
            "needs_background": "light"
          }
        }
      ]
    },
    {
      "cell_type": "markdown",
      "metadata": {
        "id": "NU0VOKtuIoPe",
        "colab_type": "text"
      },
      "source": [
        ""
      ]
    }
  ]
}